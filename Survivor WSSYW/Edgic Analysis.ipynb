{
 "cells": [
  {
   "cell_type": "markdown",
   "metadata": {},
   "source": [
    "Edgic Analysis\n",
    "==\n"
   ]
  },
  {
   "cell_type": "markdown",
   "metadata": {},
   "source": [
    "### Connect to Reddit API\n",
    "Establish connection to Reddit via the Python Reddit API Wrapper"
   ]
  },
  {
   "cell_type": "code",
   "execution_count": null,
   "metadata": {},
   "outputs": [],
   "source": [
    "import praw\n",
    "import re\n",
    "import pandas as pd\n",
    "from praw.models import MoreComments\n",
    "import numpy as np\n",
    "from datetime import datetime, timezone\n",
    "import json\n",
    "from collections import OrderedDict\n",
    "\n",
    "# Track date of data pull\n",
    "pull_date = datetime.now().strftime(\"%b %d %Y %H:%M:%S\")\n",
    "\n",
    "# Create connection to Reddit via PRAW\n",
    "fp = open('./settings.json')\n",
    "settings = json.load(fp).get('praw')\n",
    "reddit = praw.Reddit(client_id = settings.get('client_id'),\n",
    "                    client_secret = settings.get('client_secret'),\n",
    "                    user_agent = settings.get('user_agent'),\n",
    "                    username = settings.get('username'),\n",
    "                    password = settings.get('password'))\n",
    "subreddit = reddit.subreddit('edgic')\n",
    "\n",
    "fp = open('./edgic-seasons.json')\n",
    "seasons = json.load(fp)\n",
    "\n",
    "readData = True"
   ]
  },
  {
   "cell_type": "markdown",
   "metadata": {},
   "source": [
    "### Pull all required data"
   ]
  },
  {
   "cell_type": "code",
   "execution_count": null,
   "metadata": {
    "scrolled": true
   },
   "outputs": [],
   "source": [
    "pattern1 = re.compile(r'[0-9]*?\\.?[0-9]*?\\s+:\\s+.+$', re.MULTILINE)\n",
    "pattern2 = re.compile(r'[a-zA-Z ]*?\\s+-\\s+[0-9]*?\\.?[0-9]+?$', re.MULTILINE)\n",
    "pattern3 = re.compile(r'[a-zA-Z ]*?\\s+:\\s+[0-9]*?\\.?[0-9]+?$', re.MULTILINE)\n",
    "pattern4 = re.compile(r'[a-zA-Z ]*?\\s*:\\s+[0-9]*?\\.?[0-9]+?$', re.MULTILINE)\n",
    "\n",
    "edgic_results = {}\n",
    "for season in seasons.values():\n",
    "    season_results = OrderedDict()\n",
    "    submissions = subreddit.search(\"Edgic Results, \"+season,sort='new')\n",
    "    print(\"-------------\")\n",
    "    print(season)\n",
    "    print(\"-------------\")\n",
    "    for sub in submissions:\n",
    "        if str(sub.author) == \"DesertScorpion4\":\n",
    "            title = sub.title.replace(\"Edgic Results\",\"\").replace(season,\"\").replace(\":\",\"\").strip()\n",
    "            text = None\n",
    "            if pattern1.search(sub.selftext):\n",
    "                text = {t.split(\":\")[1].strip() : float(t.split(\":\")[0].strip()) for t in pattern1.findall(sub.selftext)}\n",
    "            elif pattern2.search(sub.selftext):\n",
    "                text = {t.split(\"-\")[0].strip() : float(t.split(\"-\")[1].strip()) for t in pattern2.findall(sub.selftext)}\n",
    "            elif pattern3.search(sub.selftext):\n",
    "                text = {t.split(\":\")[0].strip() : float(t.split(\":\")[1].strip()) for t in pattern3.findall(sub.selftext)}\n",
    "            elif pattern4.search(sub.selftext):\n",
    "                text = {t.split(\":\")[0].strip() : float(t.split(\":\")[1].strip()) for t in pattern4.findall(sub.selftext)}\n",
    "            \n",
    "            if(not text):\n",
    "                print(f\"Pattern match not found for the following submission:\\nTitle: {title}\\nBody:\\n{sub.selftext}\")\n",
    "                print(\"===========\")\n",
    "            season_results[title] = text\n",
    "    edgic_results[season] = OrderedDict(list(season_results.items())[::-1])\n",
    "    \n",
    "print(edgic_results)"
   ]
  },
  {
   "cell_type": "code",
   "execution_count": null,
   "metadata": {},
   "outputs": [],
   "source": [
    "# Make graph for IoI\n",
    "IoI = edgic_results[\"Island of the Idols\"]\n",
    "df = pd.DataFrame(IoI, columns=IoI.keys())\n",
    "df.transpose()\n",
    "df.transpose().plot(legend=False)"
   ]
  },
  {
   "cell_type": "markdown",
   "metadata": {},
   "source": [
    "### Save results"
   ]
  },
  {
   "cell_type": "code",
   "execution_count": null,
   "metadata": {
    "scrolled": true
   },
   "outputs": [],
   "source": [
    "for season in seasons.values():\n",
    "    data = edgic_results[season]    \n",
    "    df = pd.DataFrame(data, columns=data.keys())\n",
    "    # Save csv for reference\n",
    "    df_format = df.transpose().reset_index().rename(columns={'index':'Episode'})\n",
    "    df_format.to_csv(f'./data/{season}_contender_rankings.csv', header=True, index=None)"
   ]
  },
  {
   "cell_type": "markdown",
   "metadata": {},
   "source": [
    "### Read in results"
   ]
  },
  {
   "cell_type": "code",
   "execution_count": null,
   "metadata": {
    "scrolled": false
   },
   "outputs": [],
   "source": [
    "def read_df(season):\n",
    "    df = pd.read_csv(f\"./data/{season}_contender_rankings.csv\")\n",
    "    results = pd.read_csv(\"./data/contestants-results.csv\")\n",
    "    df_pivot = pd.DataFrame(columns=['Episode','name','rank','finish','vote out','finalist'])\n",
    "    for col in df.columns:\n",
    "        df_new = pd.DataFrame(columns=['Episode','name','rank','finish','vote out','finalist'])\n",
    "        if not col == 'Episode':\n",
    "            res = results.loc[(results[\"Season\"]==season) & (results['name']==col)].set_index([\"name\", \"Vote Out\"])\n",
    "            res['last episode'] = ['Finale' if x=='FTC' else x for x in res.reset_index()['Vote Out']]\n",
    "            df_new['Episode'] = df['Episode']\n",
    "            df_new['name'] = col\n",
    "            df_new['rank'] = df[col]\n",
    "            df_tmp=pd.merge(df_new, res.reset_index()[['name','last episode','Vote Out']], how='left', left_on=['name','Episode'], right_on=['name','last episode'])\n",
    "            df_tmp2=pd.merge(df_new, res.reset_index()[['name','Rank']].dropna(), how='left', left_on=['name'], right_on=['name'])\n",
    "            df_new['vote out'] = df_tmp['last episode']==df_tmp['Episode']\n",
    "            df_new['FTC'] = df_tmp['Vote Out']=='FTC'\n",
    "            df_new['finish'] = df_tmp2['Rank']\n",
    "            df_new['finalist'] = df_new['finish']<6\n",
    "            df_pivot = pd.concat([df_pivot, df_new], sort=False)\n",
    "    data = df_pivot.reset_index(drop=True)\n",
    "    # print(data.loc[data['vote out']==True])\n",
    "    for x in data.loc[data['vote out']==True].index.values:\n",
    "        if not data.loc[x,'rank']>0:\n",
    "            data.loc[x,'rank'] = data.loc[x-1,'rank']\n",
    "    # print(data.loc[data['vote out']==True])\n",
    "    data['Finish'] = [x[1]['finish'] if x[1]['finalist']==True else '>5' for x in data.iterrows()]\n",
    "    return data"
   ]
  },
  {
   "cell_type": "markdown",
   "metadata": {},
   "source": [
    "### Set plot theme using plotnine"
   ]
  },
  {
   "cell_type": "code",
   "execution_count": null,
   "metadata": {},
   "outputs": [],
   "source": [
    "from plotnine import *\n",
    "\n",
    "# Define colors\n",
    "color_background = \"white\"\n",
    "color_text = \"#22211d\"\n",
    "\n",
    "# Define the theme to be used on all graphs\n",
    "my_theme = (\n",
    "\n",
    "    # Begin construction of chart\n",
    "    theme_bw(base_size=15) +\n",
    "\n",
    "    # Format background colors\n",
    "    theme(panel_background = element_rect(fill=color_background, color=color_background)) +\n",
    "    theme(plot_background  = element_rect(fill=color_background, color=color_background)) +\n",
    "    theme(panel_border     = element_rect(color=color_background)) +\n",
    "    theme(strip_background = element_rect(fill=color_background, color=color_background)) +\n",
    "\n",
    "    # Format the grid\n",
    "    theme(panel_grid_major_y = element_blank()) +\n",
    "    theme(panel_grid_minor_y = element_blank()) +\n",
    "    theme(axis_ticks         = element_blank()) +\n",
    "\n",
    "    # Format the legend\n",
    "    theme(legend_position = \"right\") +\n",
    "    theme(legend_text      = element_text(size=10, margin={'l':12}, ha='center')) +\n",
    "    theme(legend_title     = element_text(size=12, face=\"bold\")) +\n",
    "    theme(legend_key = element_rect(fill=color_background, color=color_background)) +\n",
    "\n",
    "    # Format title and axis labels\n",
    "    theme(plot_title       = element_text(color=color_text, size=16, weight = \"bold\", linespacing=1.1)) +\n",
    "    theme(axis_title_x     = element_text(size=10, color=\"black\", weight = \"bold\")) +\n",
    "    theme(axis_title_y     = element_text(size=10, color=\"black\", weight = \"bold\")) +\n",
    "    theme(axis_text_x      = element_text(size=12, vjust=1, hjust=1, color = color_text,rotation=45)) +\n",
    "    theme(axis_text_y      = element_text(size=12, color = color_text)) +\n",
    "    theme(strip_text       = element_text(face = \"bold\")) +\n",
    "\n",
    "    # Plot margins\n",
    "    theme(figure_size = (12,6))\n",
    "    )\n"
   ]
  },
  {
   "cell_type": "markdown",
   "metadata": {},
   "source": [
    "### Create plot\n",
    "Create plots to visualize the data. Show the contender rankings over time, transposed with the final result and episode voted out."
   ]
  },
  {
   "cell_type": "code",
   "execution_count": null,
   "metadata": {},
   "outputs": [],
   "source": [
    "def base_fig(data, color_col,cmap,season):\n",
    "    episodes = pd.Categorical(data['Episode'], categories=data['Episode'].unique().tolist())\n",
    "    data = data.assign(episode_ord = episodes).drop(['Episode'], axis=1)\n",
    "    return(\n",
    "        ggplot(data=data, mapping=aes(x='episode_ord', y='rank', group='name')) +\n",
    "        geom_line(aes(color=color_col, alpha = 1), size = 2) + \n",
    "        geom_point(data=data.loc[data['vote out']==True], \n",
    "                   mapping=aes(y='rank', color=color_col), shape='.', size=9, show_legend=False) +\n",
    "        geom_point(data=data.loc[data['vote out']==True], \n",
    "                   mapping=aes(y='rank'), color=\"#FFFFFF\", shape='.', size=3, show_legend=False) +\n",
    "        geom_point(data=data.loc[data['FTC']==True], \n",
    "                   mapping=aes(y='rank', color=color_col), shape='*', size=9, show_legend=False) +\n",
    "        geom_point(data=data.loc[data['FTC']==True], \n",
    "                   mapping=aes(y='rank'), color=\"#FFFFFF\", shape='*', size=3, show_legend=False) +\n",
    "        geom_label(data=data.loc[data['vote out']==True], \n",
    "                   mapping=aes(y='rank', label='name', color=color_col), ha='left', nudge_x=.15, size=7, show_legend=False) +\n",
    "#         geom_text(data=data.loc[data['FTC']==True], \n",
    "#                    mapping=aes(x=13,y='rank', label='finish', color=color_col), size=10) +\n",
    "\n",
    "        scale_y_continuous(limits=[1,5], breaks=range(1,6,1)) + \n",
    "        labs(x=\"Episode\", y=\"Contender Rating\",title=f\"{season} Edgic Analysis:\\nContender Rating of Contestants\") +\n",
    "        scale_color_manual(cmap)\n",
    "    )"
   ]
  },
  {
   "cell_type": "code",
   "execution_count": null,
   "metadata": {
    "scrolled": false
   },
   "outputs": [],
   "source": [
    "\n",
    "cmap_tmp = {1:\"#F70020\",2:\"#1A7D00\",3:\"#0C96F2\",4:\"#FB9701\",5:\"#636666\",6:\"#87603E\",\">5\":\"#BFBEBB\"}\n",
    "base_fig(data.append(\n",
    "    pd.DataFrame([['',None,None,None,None,None,None,'>5']], columns=data.columns)\n",
    "    ),'Finish',cmap_tmp,season) + my_theme"
   ]
  },
  {
   "cell_type": "code",
   "execution_count": null,
   "metadata": {
    "scrolled": false
   },
   "outputs": [],
   "source": [
    "cmap_tmp = {1:\"#F70020\",2:\"#1A7D00\",3:\"#0C96F2\",4:\"#FB9701\",5:\"#636666\",6:\"#87603E\",\">5\":\"#BFBEBB\"}\n",
    "\n",
    "for season in seasons.values():\n",
    "    df = read_df(season)\n",
    "    fig = base_fig(df.append(\n",
    "        pd.DataFrame([['',None,None,None,None,None,None,'>5']], columns=df.columns)\n",
    "        ),'Finish',cmap_tmp,season) + my_theme\n",
    "    ggsave(plot=fig, filename=f'./images/{season}_contender_ratings.png')"
   ]
  }
 ],
 "metadata": {
  "kernelspec": {
   "display_name": "Python 3",
   "language": "python",
   "name": "python3"
  },
  "language_info": {
   "codemirror_mode": {
    "name": "ipython",
    "version": 3
   },
   "file_extension": ".py",
   "mimetype": "text/x-python",
   "name": "python",
   "nbconvert_exporter": "python",
   "pygments_lexer": "ipython3",
   "version": "3.7.1"
  }
 },
 "nbformat": 4,
 "nbformat_minor": 2
}
