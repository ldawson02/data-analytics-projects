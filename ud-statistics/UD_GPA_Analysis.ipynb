{
 "cells": [
  {
   "cell_type": "markdown",
   "metadata": {},
   "source": [
    "University of Delaware GPA Distribution by Major\n",
    "--\n",
    "This initial project is an analysis of grade distribution throughout the various colleges, departments, and majors at the University of Delaware, Newark campus. \n",
    "\n",
    "All data sourced from University of Delaware [Office of Institutional Research and Effectiveness](https://ire.udel.edu/). The grade distribution data can be found [here](https://cpb-us-w2.wpmucdn.com/sites.udel.edu/dist/e/2019/files/2017/04/Fall-2016-1ryyj3y.pdf)."
   ]
  },
  {
   "cell_type": "code",
   "execution_count": null,
   "metadata": {},
   "outputs": [],
   "source": []
  }
 ],
 "metadata": {
  "kernelspec": {
   "display_name": "Python 2",
   "language": "python",
   "name": "python2"
  },
  "language_info": {
   "codemirror_mode": {
    "name": "ipython",
    "version": 2
   },
   "file_extension": ".py",
   "mimetype": "text/x-python",
   "name": "python",
   "nbconvert_exporter": "python",
   "pygments_lexer": "ipython2",
   "version": "2.7.10"
  }
 },
 "nbformat": 4,
 "nbformat_minor": 2
}
